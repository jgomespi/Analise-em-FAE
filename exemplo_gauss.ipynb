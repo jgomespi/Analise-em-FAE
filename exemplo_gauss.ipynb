{
  "nbformat": 4,
  "nbformat_minor": 0,
  "metadata": {
    "colab": {
      "name": "exemplo_gauss.ipynb",
      "provenance": [],
      "authorship_tag": "ABX9TyPO+13Z+1pOHiJbB+79FXIc",
      "include_colab_link": true
    },
    "kernelspec": {
      "name": "python3",
      "display_name": "Python 3"
    }
  },
  "cells": [
    {
      "cell_type": "markdown",
      "metadata": {
        "id": "view-in-github",
        "colab_type": "text"
      },
      "source": [
        "<a href=\"https://colab.research.google.com/github/teteumac/Analise-em-FAE/blob/main/exemplo_gauss.ipynb\" target=\"_parent\"><img src=\"https://colab.research.google.com/assets/colab-badge.svg\" alt=\"Open In Colab\"/></a>"
      ]
    },
    {
      "cell_type": "markdown",
      "metadata": {
        "id": "vvtNpEMjQBmL"
      },
      "source": [
        "## Código referente ao exercício 25"
      ]
    },
    {
      "cell_type": "code",
      "metadata": {
        "id": "KZ0n7u_jKv4W"
      },
      "source": [
        "import pandas as pd\n",
        "from scipy.stats import chi2,norm,chisquare\n",
        "import seaborn as sns\n",
        "import matplotlib.pyplot as plt"
      ],
      "execution_count": 1,
      "outputs": []
    },
    {
      "cell_type": "code",
      "metadata": {
        "id": "RUZo8tDsKxXU"
      },
      "source": [
        "pendulo = pd.DataFrame([0.7743,0.7723,0.7717,0.7737,0.7720,0.7707,0.7723,0.7740,0.7743,\n",
        "0.7730,0.7743,0.7737,0.7733, 0.7733,0.7730,0.7737,0.7723,0.7723,0.7730,0.7737,\n",
        "0.7713,0.7727,0.7713,0.7740,0.7720,0.7727,0.7723,0.7740,0.7723,0.7723,0.7727,\n",
        "0.7717,0.7703,0.7723,0.7743,0.7733,0.7730,0.7737,0.7723,0.7757,0.7717,0.7737,0.7740,\n",
        "0.7757,0.7743,0.7707,0.7740,0.7723,0.7743,0.7710,0.7727,0.7723,0.7723,0.77200,\n",
        "0.7717,0.7733,0.7727,0.7733,0.7723,0.7737,0.7723,0.7730,0.7740,0.7757,\n",
        "0.7710,0.7703,0.7727,0.7730,0.7723,0.7710,0.7740,0.7727,0.7713,0.7703,0.7733,\n",
        "0.7720,0.7723,0.7700,0.7730,0.7750])"
      ],
      "execution_count": 2,
      "outputs": []
    },
    {
      "cell_type": "code",
      "metadata": {
        "id": "ajQ-CojWKziR",
        "outputId": "6d4511f8-87fe-4a95-9b8f-6d066ab8aa2a",
        "colab": {
          "base_uri": "https://localhost:8080/",
          "height": 52
        }
      },
      "source": [
        "media = pendulo.mean()[0]\n",
        "sigma = pendulo.std()[0]\n",
        "print('media: ', media)\n",
        "print('sigma: ', sigma)"
      ],
      "execution_count": 3,
      "outputs": [
        {
          "output_type": "stream",
          "text": [
            "media:  0.7727787500000002\n",
            "sigma:  0.0012549339334065276\n"
          ],
          "name": "stdout"
        }
      ]
    },
    {
      "cell_type": "code",
      "metadata": {
        "id": "3IRjeZl5K1J8",
        "outputId": "1a260e87-80a3-44d1-b7fb-72a0b696d9af",
        "colab": {
          "base_uri": "https://localhost:8080/",
          "height": 1000
        }
      },
      "source": [
        "grupo1 = pendulo.loc[pendulo[0] < (media - sigma) ]\n",
        "print('grupo 1:', grupo1, '\\n')\n",
        "grupo2 = pendulo.loc[pendulo[0] > (media - sigma)].loc[pendulo[0] < media]\n",
        "print('grupo 2: ', grupo2, '\\n')\n",
        "grupo3 = pendulo.loc[pendulo[0] < (media + sigma)].loc[pendulo[0] > media]\n",
        "print('grupo 3: ', grupo3, '\\n')\n",
        "grupo4 = pendulo.loc[pendulo[0] > (media + sigma) ]\n",
        "print('grupo 4:' , grupo4, '\\n')"
      ],
      "execution_count": 4,
      "outputs": [
        {
          "output_type": "stream",
          "text": [
            "grupo 1:          0\n",
            "5   0.7707\n",
            "20  0.7713\n",
            "22  0.7713\n",
            "32  0.7703\n",
            "45  0.7707\n",
            "49  0.7710\n",
            "64  0.7710\n",
            "65  0.7703\n",
            "69  0.7710\n",
            "72  0.7713\n",
            "73  0.7703\n",
            "77  0.7700 \n",
            "\n",
            "grupo 2:           0\n",
            "1   0.7723\n",
            "2   0.7717\n",
            "4   0.7720\n",
            "6   0.7723\n",
            "16  0.7723\n",
            "17  0.7723\n",
            "21  0.7727\n",
            "24  0.7720\n",
            "25  0.7727\n",
            "26  0.7723\n",
            "28  0.7723\n",
            "29  0.7723\n",
            "30  0.7727\n",
            "31  0.7717\n",
            "33  0.7723\n",
            "38  0.7723\n",
            "40  0.7717\n",
            "47  0.7723\n",
            "50  0.7727\n",
            "51  0.7723\n",
            "52  0.7723\n",
            "53  0.7720\n",
            "54  0.7717\n",
            "56  0.7727\n",
            "58  0.7723\n",
            "60  0.7723\n",
            "66  0.7727\n",
            "68  0.7723\n",
            "71  0.7727\n",
            "75  0.7720\n",
            "76  0.7723 \n",
            "\n",
            "grupo 3:           0\n",
            "3   0.7737\n",
            "7   0.7740\n",
            "9   0.7730\n",
            "11  0.7737\n",
            "12  0.7733\n",
            "13  0.7733\n",
            "14  0.7730\n",
            "15  0.7737\n",
            "18  0.7730\n",
            "19  0.7737\n",
            "23  0.7740\n",
            "27  0.7740\n",
            "35  0.7733\n",
            "36  0.7730\n",
            "37  0.7737\n",
            "41  0.7737\n",
            "42  0.7740\n",
            "46  0.7740\n",
            "55  0.7733\n",
            "57  0.7733\n",
            "59  0.7737\n",
            "61  0.7730\n",
            "62  0.7740\n",
            "67  0.7730\n",
            "70  0.7740\n",
            "74  0.7733\n",
            "78  0.7730 \n",
            "\n",
            "grupo 4:          0\n",
            "0   0.7743\n",
            "8   0.7743\n",
            "10  0.7743\n",
            "34  0.7743\n",
            "39  0.7757\n",
            "43  0.7757\n",
            "44  0.7743\n",
            "48  0.7743\n",
            "63  0.7757\n",
            "79  0.7750 \n",
            "\n"
          ],
          "name": "stdout"
        }
      ]
    },
    {
      "cell_type": "code",
      "metadata": {
        "id": "GP2PVjMDK3rq",
        "outputId": "b40d8436-9f35-49e8-eaf7-43b7e371a435",
        "colab": {
          "base_uri": "https://localhost:8080/",
          "height": 334
        }
      },
      "source": [
        "sns.distplot(pendulo[0],fit=norm,kde=False, color = 'red',axlabel='T')\n",
        "plt.plot([media,media],[0,400],label = \"Media: {:2.3f}\".format(media) )\n",
        "plt.legend(loc='best')\n",
        "plt.show()"
      ],
      "execution_count": 5,
      "outputs": [
        {
          "output_type": "stream",
          "text": [
            "/usr/local/lib/python3.6/dist-packages/seaborn/distributions.py:2551: FutureWarning: `distplot` is a deprecated function and will be removed in a future version. Please adapt your code to use either `displot` (a figure-level function with similar flexibility) or `histplot` (an axes-level function for histograms).\n",
            "  warnings.warn(msg, FutureWarning)\n"
          ],
          "name": "stderr"
        },
        {
          "output_type": "display_data",
          "data": {
            "image/png": "[encoded data removed]",
            "text/plain": [
              "<Figure size 432x288 with 1 Axes>"
            ]
          },
          "metadata": {
            "tags": [],
            "needs_background": "light"
          }
        }
      ]
    },
    {
      "cell_type": "code",
      "metadata": {
        "id": "383Z-9B-K6oF",
        "outputId": "e0dc3e6e-ee90-4b8b-8458-3b931ae84a03",
        "colab": {
          "base_uri": "https://localhost:8080/",
          "height": 34
        }
      },
      "source": [
        "esperados  = [ 12.69,27.30,27.30,12.69] \n",
        "observados = [ len(grupo1),len(grupo2),len(grupo3),len(grupo4) ]\n",
        "print(chisquare(esperados,observados))"
      ],
      "execution_count": 6,
      "outputs": [
        {
          "output_type": "stream",
          "text": [
            "Power_divergenceResult(statistic=1.2082312365591394, pvalue=0.7510308056821712)\n"
          ],
          "name": "stdout"
        }
      ]
    }
  ]
}