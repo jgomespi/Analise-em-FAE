{
  "nbformat": 4,
  "nbformat_minor": 0,
  "metadata": {
    "colab": {
      "name": " exemplo_poisson.ipynb",
      "provenance": [],
      "authorship_tag": "ABX9TyOpUJSvmLTHouFOEcKPjHYE",
      "include_colab_link": true
    },
    "kernelspec": {
      "name": "python3",
      "display_name": "Python 3"
    }
  },
  "cells": [
    {
      "cell_type": "markdown",
      "metadata": {
        "id": "view-in-github",
        "colab_type": "text"
      },
      "source": [
        "<a href=\"https://colab.research.google.com/github/teteumac/Analise-em-FAE/blob/main/exemplo_poisson.ipynb\" target=\"_parent\"><img src=\"https://colab.research.google.com/assets/colab-badge.svg\" alt=\"Open In Colab\"/></a>"
      ]
    },
    {
      "cell_type": "code",
      "metadata": {
        "id": "KZ0n7u_jKv4W"
      },
      "source": [
        "import math # biblioteca  para  realizar  as  operacoes  de  fatorial e exponencial"
      ],
      "execution_count": 1,
      "outputs": []
    },
    {
      "cell_type": "code",
      "metadata": {
        "id": "RUZo8tDsKxXU"
      },
      "source": [
        "media = 3.87  # media  das  distribuicoes\n",
        "A = 2608 # normalizacao"
      ],
      "execution_count": 2,
      "outputs": []
    },
    {
      "cell_type": "code",
      "metadata": {
        "id": "3IRjeZl5K1J8"
      },
      "source": [
        "f_exp = [57,203,389,525,532,408,273,139,45,27,10,6] # valores medidos\n",
        "f_teo = [] # criar  uma  lista  vazia"
      ],
      "execution_count": 3,
      "outputs": []
    },
    {
      "cell_type": "markdown",
      "metadata": {
        "id": "gUUAKncOMUf6"
      },
      "source": [
        "O loop \"for\" calcula  para  cada  valor de **m** indo 0 ate 11 as  frequencias e guarda  na lista f com o atributo \"append\"   "
      ]
    },
    {
      "cell_type": "code",
      "metadata": {
        "id": "GP2PVjMDK3rq"
      },
      "source": [
        "for m in range(0,12):\n",
        "    f_teo.append(A * media**( m )/( math.factorial( m ) ) * math.exp( - media ) )"
      ],
      "execution_count": 4,
      "outputs": []
    },
    {
      "cell_type": "code",
      "metadata": {
        "id": "srbAo_UdLRe7"
      },
      "source": [
        "import numpy as np # importa a biblioteca numpy para facilitar os calculos"
      ],
      "execution_count": 5,
      "outputs": []
    },
    {
      "cell_type": "code",
      "metadata": {
        "id": "loEe402YMKW4",
        "outputId": "90c129f5-b4ef-4fcc-e089-c978190ab24a",
        "colab": {
          "base_uri": "https://localhost:8080/",
          "height": 34
        }
      },
      "source": [
        "chi2 = ( np.array( f_exp ) - np.array( f_teo ) ) **2/ np.array( f_teo )\n",
        "print( chi2.sum() )"
      ],
      "execution_count": 6,
      "outputs": [
        {
          "output_type": "stream",
          "text": [
            "13.369347962560862\n"
          ],
          "name": "stdout"
        }
      ]
    },
    {
      "cell_type": "markdown",
      "metadata": {
        "id": "MzetsMnUMc88"
      },
      "source": [
        "O chi quadrado de fato e caculado aqui, quando somamos todas as contribuicoes"
      ]
    },
    {
      "cell_type": "code",
      "metadata": {
        "id": "Q2nVGcAZMNHn",
        "outputId": "3d1a550e-79c5-4e64-fbdd-4e5a214af699",
        "colab": {
          "base_uri": "https://localhost:8080/",
          "height": 34
        }
      },
      "source": [
        "from scipy.stats import chisquare # biblioteca para importada para o calculo do chi2\n",
        "print( chisquare( f_exp,f_teo ) ) # podemos checar o valor com a funcao chisquare do scipy.stats"
      ],
      "execution_count": 7,
      "outputs": [
        {
          "output_type": "stream",
          "text": [
            "Power_divergenceResult(statistic=13.369347962560862, pvalue=0.2698718418926656)\n"
          ],
          "name": "stdout"
        }
      ]
    }
  ]
}